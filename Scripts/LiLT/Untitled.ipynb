{
 "cells": [
  {
   "cell_type": "markdown",
   "id": "7f6ecc0b-663e-44d5-8746-88c85015d169",
   "metadata": {},
   "source": [
    "https://huggingface.co/TusharGoel/LiLT-Document-QA"
   ]
  },
  {
   "cell_type": "code",
   "execution_count": 3,
   "id": "68805416-a94f-4c6a-ba4f-5aa504704ff8",
   "metadata": {},
   "outputs": [
    {
     "name": "stdout",
     "output_type": "stream",
     "text": [
      "example:\n",
      "{'id': '0', 'words': ['R&D', ':', 'Suggestion:', 'Date:', 'Licensee', 'Yes', 'No', '597005708', 'R&D', 'QUALITY', 'IMPROVEMENT', 'SUGGESTION/', 'SOLUTION', 'FORM', 'Name', '/', 'Phone', 'Ext.', ':', 'M.', 'Hamann', 'P.', 'Harper,', 'P.', 'Martinez', '9/', '3/', '92', 'R&D', 'Group:', 'J.', 'S.', 'Wigand', 'Supervisor', '/', 'Manager', 'Discontinue', 'coal', 'retention', 'analyses', 'on', 'licensee', 'submitted', 'product', 'samples', '(Note', ':', 'Coal', 'Retention', 'testing', 'is', 'not', 'performed', 'by', 'most', 'licensees.', 'Other', 'B&W', 'physical', 'measurements', 'as', 'ends', 'stability', 'and', 'inspection', 'for', 'soft', 'spots', 'in', 'ciparettes', 'are', 'thought', 'to', 'be', 'sufficient', 'measures', 'to', 'assure', 'cigarette', 'physical', 'integrity.', 'The', 'proposed', 'action', 'will', 'increase', 'laboratory', 'productivity', '.', ')', 'Suggested', 'Solutions', '(s)', ':', 'Delete', 'coal', 'retention', 'from', 'the', 'list', 'of', 'standard', 'analyses', 'performed', 'on', 'licensee', 'submitted', 'product', 'samples.', 'Special', 'requests', 'for', 'coal', 'retention', 'testing', 'could', 'still', 'be', 'submitted', 'on', 'an', 'exception', 'basis.', 'Have', 'you', 'contacted', 'your', 'Manager/', 'Supervisor?', 'Manager', 'Comments:', 'Manager,', 'please', 'contact', 'suggester', 'and', 'forward', 'comments', 'to', 'the', 'Quality', 'Council.', 'qip', '.', 'wp'], 'bboxes': [[383, 91, 493, 175], [287, 316, 295, 327], [124, 355, 221, 370], [632, 268, 679, 282], [670, 309, 748, 323], [604, 605, 633, 619], [715, 603, 738, 617], [688, 904, 841, 926], [337, 203, 366, 214], [374, 203, 438, 216], [447, 201, 548, 211], [335, 215, 425, 229], [434, 214, 507, 228], [518, 215, 555, 228], [116, 274, 154, 289], [153, 274, 166, 288], [167, 274, 213, 289], [221, 272, 257, 287], [257, 274, 267, 288], [282, 272, 301, 287], [311, 272, 376, 286], [384, 272, 402, 286], [412, 274, 476, 285], [485, 272, 503, 285], [511, 271, 591, 282], [712, 265, 734, 279], [734, 264, 754, 279], [754, 264, 774, 279], [551, 310, 580, 323], [587, 310, 644, 323], [309, 313, 329, 327], [335, 313, 358, 326], [364, 313, 429, 327], [119, 316, 211, 330], [213, 318, 221, 331], [221, 317, 286, 327], [249, 355, 351, 366], [359, 353, 397, 366], [405, 352, 492, 365], [500, 351, 570, 365], [581, 352, 601, 363], [608, 348, 682, 362], [691, 346, 779, 361], [249, 369, 314, 383], [324, 367, 395, 380], [417, 365, 461, 379], [461, 367, 471, 380], [489, 366, 527, 376], [535, 366, 619, 376], [628, 365, 694, 376], [703, 363, 720, 374], [727, 363, 758, 374], [249, 383, 335, 394], [342, 381, 360, 394], [370, 383, 408, 393], [417, 380, 506, 391], [526, 378, 573, 389], [581, 378, 610, 389], [618, 377, 692, 391], [250, 398, 360, 406], [370, 397, 389, 405], [398, 394, 435, 405], [444, 394, 527, 405], [536, 392, 564, 402], [573, 392, 666, 403], [675, 391, 702, 402], [711, 391, 749, 401], [253, 411, 299, 422], [308, 409, 328, 420], [335, 409, 429, 419], [435, 408, 461, 418], [472, 406, 538, 419], [544, 406, 564, 416], [572, 404, 594, 417], [601, 405, 694, 415], [702, 405, 776, 415], [253, 425, 272, 433], [280, 423, 334, 431], [342, 420, 426, 434], [434, 419, 511, 432], [518, 418, 607, 431], [627, 416, 656, 429], [664, 418, 742, 431], [253, 436, 309, 447], [314, 436, 353, 447], [363, 434, 437, 445], [444, 433, 538, 446], [548, 430, 658, 445], [660, 433, 665, 444], [666, 430, 674, 444], [124, 489, 208, 504], [216, 487, 291, 501], [292, 486, 316, 503], [318, 489, 328, 503], [345, 486, 401, 500], [410, 486, 447, 499], [456, 486, 540, 497], [545, 485, 586, 498], [594, 485, 623, 498], [629, 483, 666, 496], [675, 483, 698, 494], [703, 483, 778, 494], [346, 501, 419, 514], [425, 501, 514, 512], [520, 501, 540, 511], [549, 499, 623, 512], [632, 499, 716, 510], [346, 517, 412, 528], [419, 514, 490, 528], [511, 513, 576, 526], [585, 513, 658, 524], [666, 511, 695, 522], [706, 510, 742, 523], [345, 529, 433, 540], [439, 527, 507, 540], [511, 527, 561, 538], [568, 525, 614, 536], [620, 525, 640, 535], [650, 524, 734, 537], [742, 524, 766, 537], [346, 543, 368, 553], [375, 539, 459, 553], [465, 541, 520, 551], [125, 612, 166, 623], [171, 613, 204, 624], [211, 612, 295, 623], [300, 610, 341, 623], [346, 609, 412, 622], [423, 608, 522, 621], [128, 654, 196, 665], [202, 651, 276, 664], [304, 648, 377, 662], [388, 649, 443, 662], [451, 648, 517, 662], [526, 648, 608, 661], [615, 647, 644, 658], [652, 644, 717, 657], [129, 666, 203, 677], [212, 665, 232, 676], [240, 665, 269, 675], [276, 663, 342, 676], [350, 662, 423, 676], [133, 824, 161, 837], [162, 824, 170, 838], [170, 823, 190, 837]], 'ner_tags': [0, 3, 3, 3, 5, 3, 3, 0, 1, 2, 2, 2, 2, 2, 3, 4, 4, 4, 4, 5, 6, 6, 6, 6, 6, 5, 6, 6, 3, 4, 5, 6, 6, 3, 4, 4, 5, 6, 6, 6, 6, 6, 6, 6, 6, 6, 6, 6, 6, 6, 6, 6, 6, 6, 6, 6, 6, 6, 6, 6, 6, 6, 6, 6, 6, 6, 6, 6, 6, 6, 6, 6, 6, 6, 6, 6, 6, 6, 6, 6, 6, 6, 6, 6, 6, 6, 6, 6, 6, 6, 3, 4, 4, 4, 5, 6, 6, 6, 6, 6, 6, 6, 6, 6, 6, 6, 6, 6, 6, 6, 6, 6, 6, 6, 6, 6, 6, 6, 6, 6, 6, 6, 6, 1, 2, 2, 2, 2, 2, 3, 4, 5, 6, 6, 6, 6, 6, 5, 6, 6, 6, 6, 0, 0, 0], 'image_path': '/root/.cache/huggingface/datasets/downloads/extracted/e5bbbc543f8cc95554da124f3e80a57ed24d67d06ae1467da5810703f851e3f9/dataset/training_data/images/0000971160.png'}\n",
      "------------------------------\n",
      "What is the Licensee Number?\n",
      "------------------------------\n",
      "597005708\n"
     ]
    }
   ],
   "source": [
    "from transformers import AutoTokenizer, AutoModelForQuestionAnswering\n",
    "from datasets import load_dataset\n",
    "\n",
    "model_checkpoint = \"TusharGoel/LiLT-Document-QA\"\n",
    "tokenizer = AutoTokenizer.from_pretrained(model_checkpoint, add_prefix_space=True)\n",
    "model_predict = AutoModelForQuestionAnswering.from_pretrained(model_checkpoint)\n",
    "\n",
    "model_predict.eval()\n",
    "dataset = load_dataset(\"nielsr/funsd\", split=\"train\")\n",
    "example = dataset[0]\n",
    "print(\"example:\")\n",
    "print(example)\n",
    "print(\"------------------------------\")\n",
    "question = \"What is the Licensee Number?\"\n",
    "print(question)\n",
    "print(\"------------------------------\")\n",
    "\n",
    "words = example[\"words\"]\n",
    "boxes = example[\"bboxes\"]\n",
    "\n",
    "encoding = tokenizer(question, words, boxes = boxes, return_token_type_ids=True, return_tensors=\"pt\")\n",
    "\n",
    "word_ids = encoding.word_ids(0)\n",
    "outputs = model_predict(**encoding)\n",
    "\n",
    "loss = outputs.loss\n",
    "start_scores = outputs.start_logits\n",
    "end_scores = outputs.end_logits\n",
    "\n",
    "start, end = word_ids[start_scores.argmax(-1).item()], word_ids[end_scores.argmax(-1).item()]\n",
    "# print(start, end)\n",
    "print(\" \".join(words[start : end + 1]))\n"
   ]
  },
  {
   "cell_type": "code",
   "execution_count": null,
   "id": "72443c42-2d0c-4c8e-9f4b-544975243fb5",
   "metadata": {},
   "outputs": [],
   "source": []
  }
 ],
 "metadata": {
  "kernelspec": {
   "display_name": "Python 3 (ipykernel)",
   "language": "python",
   "name": "python3"
  },
  "language_info": {
   "codemirror_mode": {
    "name": "ipython",
    "version": 3
   },
   "file_extension": ".py",
   "mimetype": "text/x-python",
   "name": "python",
   "nbconvert_exporter": "python",
   "pygments_lexer": "ipython3",
   "version": "3.11.0rc1"
  }
 },
 "nbformat": 4,
 "nbformat_minor": 5
}
